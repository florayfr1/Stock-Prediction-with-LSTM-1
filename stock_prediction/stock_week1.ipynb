{
 "cells": [
  {
   "cell_type": "code",
   "execution_count": 166,
   "metadata": {},
   "outputs": [],
   "source": [
    "#Stock Price Prediction And Forecasting Using Stacked LSTM- Deep Learning\n",
    "# https://www.youtube.com/watch?v=H6du_pfuznE"
   ]
  },
  {
   "cell_type": "code",
   "execution_count": 167,
   "metadata": {},
   "outputs": [],
   "source": [
    "import pandas_datareader as pdr\n",
    "#using tiingo library\n",
    "key=\"08b78fbc98302e995956e2d3b5b8f3c0296d32cc\""
   ]
  },
  {
   "cell_type": "markdown",
   "metadata": {},
   "source": [
    "I choose these companies because I know them or I read news about them. \n",
    "There are no particular reasons"
   ]
  },
  {
   "cell_type": "code",
   "execution_count": 168,
   "metadata": {},
   "outputs": [],
   "source": [
    "#AAPL  = Apple\n",
    "stock = #\"ADBE\"#\"AAPL\"#TDS\"#\"CLVT\"#\"RPRX\"#\"T\"#\"PHUN\"#\"ARDX\"#\"HPQ\"#\"CLVT\"#\"LGIH\"#\"FB\"#\"ORCL\"#\"MSFT\"#\"TDS\"#\"AMD\"#\"TM\"#\"DELL\"#\"COST\"#\"ABC\"#\"ABBV\"\n",
    "df = pdr.get_data_tiingo(stock, api_key=key)"
   ]
  },
  {
   "cell_type": "code",
   "execution_count": 169,
   "metadata": {},
   "outputs": [],
   "source": [
    "df.to_csv(f'{stock}.csv')"
   ]
  },
  {
   "cell_type": "code",
   "execution_count": 170,
   "metadata": {},
   "outputs": [
    {
     "data": {
      "text/html": [
       "<div>\n",
       "<style scoped>\n",
       "    .dataframe tbody tr th:only-of-type {\n",
       "        vertical-align: middle;\n",
       "    }\n",
       "\n",
       "    .dataframe tbody tr th {\n",
       "        vertical-align: top;\n",
       "    }\n",
       "\n",
       "    .dataframe thead th {\n",
       "        text-align: right;\n",
       "    }\n",
       "</style>\n",
       "<table border=\"1\" class=\"dataframe\">\n",
       "  <thead>\n",
       "    <tr style=\"text-align: right;\">\n",
       "      <th></th>\n",
       "      <th>symbol</th>\n",
       "      <th>date</th>\n",
       "      <th>close</th>\n",
       "      <th>high</th>\n",
       "      <th>low</th>\n",
       "      <th>open</th>\n",
       "      <th>volume</th>\n",
       "      <th>adjClose</th>\n",
       "      <th>adjHigh</th>\n",
       "      <th>adjLow</th>\n",
       "      <th>adjOpen</th>\n",
       "      <th>adjVolume</th>\n",
       "      <th>divCash</th>\n",
       "      <th>splitFactor</th>\n",
       "    </tr>\n",
       "  </thead>\n",
       "  <tbody>\n",
       "    <tr>\n",
       "      <th>0</th>\n",
       "      <td>ADBE</td>\n",
       "      <td>2016-12-05 00:00:00+00:00</td>\n",
       "      <td>101.95</td>\n",
       "      <td>102.52</td>\n",
       "      <td>100.16</td>\n",
       "      <td>100.46</td>\n",
       "      <td>2319383</td>\n",
       "      <td>101.95</td>\n",
       "      <td>102.52</td>\n",
       "      <td>100.16</td>\n",
       "      <td>100.46</td>\n",
       "      <td>2319383</td>\n",
       "      <td>0.0</td>\n",
       "      <td>1.0</td>\n",
       "    </tr>\n",
       "    <tr>\n",
       "      <th>1</th>\n",
       "      <td>ADBE</td>\n",
       "      <td>2016-12-06 00:00:00+00:00</td>\n",
       "      <td>101.55</td>\n",
       "      <td>101.99</td>\n",
       "      <td>100.71</td>\n",
       "      <td>101.99</td>\n",
       "      <td>2679915</td>\n",
       "      <td>101.55</td>\n",
       "      <td>101.99</td>\n",
       "      <td>100.71</td>\n",
       "      <td>101.99</td>\n",
       "      <td>2679915</td>\n",
       "      <td>0.0</td>\n",
       "      <td>1.0</td>\n",
       "    </tr>\n",
       "    <tr>\n",
       "      <th>2</th>\n",
       "      <td>ADBE</td>\n",
       "      <td>2016-12-07 00:00:00+00:00</td>\n",
       "      <td>103.36</td>\n",
       "      <td>103.51</td>\n",
       "      <td>100.89</td>\n",
       "      <td>100.89</td>\n",
       "      <td>2728942</td>\n",
       "      <td>103.36</td>\n",
       "      <td>103.51</td>\n",
       "      <td>100.89</td>\n",
       "      <td>100.89</td>\n",
       "      <td>2728942</td>\n",
       "      <td>0.0</td>\n",
       "      <td>1.0</td>\n",
       "    </tr>\n",
       "    <tr>\n",
       "      <th>3</th>\n",
       "      <td>ADBE</td>\n",
       "      <td>2016-12-08 00:00:00+00:00</td>\n",
       "      <td>103.50</td>\n",
       "      <td>104.07</td>\n",
       "      <td>102.54</td>\n",
       "      <td>103.36</td>\n",
       "      <td>1852118</td>\n",
       "      <td>103.50</td>\n",
       "      <td>104.07</td>\n",
       "      <td>102.54</td>\n",
       "      <td>103.36</td>\n",
       "      <td>1852118</td>\n",
       "      <td>0.0</td>\n",
       "      <td>1.0</td>\n",
       "    </tr>\n",
       "    <tr>\n",
       "      <th>4</th>\n",
       "      <td>ADBE</td>\n",
       "      <td>2016-12-09 00:00:00+00:00</td>\n",
       "      <td>104.31</td>\n",
       "      <td>104.50</td>\n",
       "      <td>103.42</td>\n",
       "      <td>104.00</td>\n",
       "      <td>2620553</td>\n",
       "      <td>104.31</td>\n",
       "      <td>104.50</td>\n",
       "      <td>103.42</td>\n",
       "      <td>104.00</td>\n",
       "      <td>2620553</td>\n",
       "      <td>0.0</td>\n",
       "      <td>1.0</td>\n",
       "    </tr>\n",
       "  </tbody>\n",
       "</table>\n",
       "</div>"
      ],
      "text/plain": [
       "  symbol                       date   close    high     low    open   volume  \\\n",
       "0   ADBE  2016-12-05 00:00:00+00:00  101.95  102.52  100.16  100.46  2319383   \n",
       "1   ADBE  2016-12-06 00:00:00+00:00  101.55  101.99  100.71  101.99  2679915   \n",
       "2   ADBE  2016-12-07 00:00:00+00:00  103.36  103.51  100.89  100.89  2728942   \n",
       "3   ADBE  2016-12-08 00:00:00+00:00  103.50  104.07  102.54  103.36  1852118   \n",
       "4   ADBE  2016-12-09 00:00:00+00:00  104.31  104.50  103.42  104.00  2620553   \n",
       "\n",
       "   adjClose  adjHigh  adjLow  adjOpen  adjVolume  divCash  splitFactor  \n",
       "0    101.95   102.52  100.16   100.46    2319383      0.0          1.0  \n",
       "1    101.55   101.99  100.71   101.99    2679915      0.0          1.0  \n",
       "2    103.36   103.51  100.89   100.89    2728942      0.0          1.0  \n",
       "3    103.50   104.07  102.54   103.36    1852118      0.0          1.0  \n",
       "4    104.31   104.50  103.42   104.00    2620553      0.0          1.0  "
      ]
     },
     "execution_count": 170,
     "metadata": {},
     "output_type": "execute_result"
    }
   ],
   "source": [
    "import pandas as pd\n",
    "df = pd.read_csv(f'{stock}.csv')\n",
    "df.head()"
   ]
  },
  {
   "cell_type": "code",
   "execution_count": 171,
   "metadata": {},
   "outputs": [
    {
     "data": {
      "text/html": [
       "<div>\n",
       "<style scoped>\n",
       "    .dataframe tbody tr th:only-of-type {\n",
       "        vertical-align: middle;\n",
       "    }\n",
       "\n",
       "    .dataframe tbody tr th {\n",
       "        vertical-align: top;\n",
       "    }\n",
       "\n",
       "    .dataframe thead th {\n",
       "        text-align: right;\n",
       "    }\n",
       "</style>\n",
       "<table border=\"1\" class=\"dataframe\">\n",
       "  <thead>\n",
       "    <tr style=\"text-align: right;\">\n",
       "      <th></th>\n",
       "      <th>symbol</th>\n",
       "      <th>date</th>\n",
       "      <th>close</th>\n",
       "      <th>high</th>\n",
       "      <th>low</th>\n",
       "      <th>open</th>\n",
       "      <th>volume</th>\n",
       "      <th>adjClose</th>\n",
       "      <th>adjHigh</th>\n",
       "      <th>adjLow</th>\n",
       "      <th>adjOpen</th>\n",
       "      <th>adjVolume</th>\n",
       "      <th>divCash</th>\n",
       "      <th>splitFactor</th>\n",
       "    </tr>\n",
       "  </thead>\n",
       "  <tbody>\n",
       "    <tr>\n",
       "      <th>1253</th>\n",
       "      <td>ADBE</td>\n",
       "      <td>2021-11-26 00:00:00+00:00</td>\n",
       "      <td>662.10</td>\n",
       "      <td>683.9999</td>\n",
       "      <td>659.68</td>\n",
       "      <td>670.2529</td>\n",
       "      <td>2203960</td>\n",
       "      <td>662.10</td>\n",
       "      <td>683.9999</td>\n",
       "      <td>659.68</td>\n",
       "      <td>670.2529</td>\n",
       "      <td>2203960</td>\n",
       "      <td>0.0</td>\n",
       "      <td>1.0</td>\n",
       "    </tr>\n",
       "    <tr>\n",
       "      <th>1254</th>\n",
       "      <td>ADBE</td>\n",
       "      <td>2021-11-29 00:00:00+00:00</td>\n",
       "      <td>687.49</td>\n",
       "      <td>691.3600</td>\n",
       "      <td>665.77</td>\n",
       "      <td>668.0000</td>\n",
       "      <td>2728844</td>\n",
       "      <td>687.49</td>\n",
       "      <td>691.3600</td>\n",
       "      <td>665.77</td>\n",
       "      <td>668.0000</td>\n",
       "      <td>2728844</td>\n",
       "      <td>0.0</td>\n",
       "      <td>1.0</td>\n",
       "    </tr>\n",
       "    <tr>\n",
       "      <th>1255</th>\n",
       "      <td>ADBE</td>\n",
       "      <td>2021-11-30 00:00:00+00:00</td>\n",
       "      <td>669.85</td>\n",
       "      <td>694.8900</td>\n",
       "      <td>667.83</td>\n",
       "      <td>687.2200</td>\n",
       "      <td>4703616</td>\n",
       "      <td>669.85</td>\n",
       "      <td>694.8900</td>\n",
       "      <td>667.83</td>\n",
       "      <td>687.2200</td>\n",
       "      <td>4703616</td>\n",
       "      <td>0.0</td>\n",
       "      <td>1.0</td>\n",
       "    </tr>\n",
       "    <tr>\n",
       "      <th>1256</th>\n",
       "      <td>ADBE</td>\n",
       "      <td>2021-12-01 00:00:00+00:00</td>\n",
       "      <td>657.41</td>\n",
       "      <td>678.7800</td>\n",
       "      <td>656.28</td>\n",
       "      <td>676.0000</td>\n",
       "      <td>2832765</td>\n",
       "      <td>657.41</td>\n",
       "      <td>678.7800</td>\n",
       "      <td>656.28</td>\n",
       "      <td>676.0000</td>\n",
       "      <td>2832765</td>\n",
       "      <td>0.0</td>\n",
       "      <td>1.0</td>\n",
       "    </tr>\n",
       "    <tr>\n",
       "      <th>1257</th>\n",
       "      <td>ADBE</td>\n",
       "      <td>2021-12-02 00:00:00+00:00</td>\n",
       "      <td>671.88</td>\n",
       "      <td>674.8450</td>\n",
       "      <td>653.62</td>\n",
       "      <td>655.9500</td>\n",
       "      <td>2675408</td>\n",
       "      <td>671.88</td>\n",
       "      <td>674.8450</td>\n",
       "      <td>653.62</td>\n",
       "      <td>655.9500</td>\n",
       "      <td>2675408</td>\n",
       "      <td>0.0</td>\n",
       "      <td>1.0</td>\n",
       "    </tr>\n",
       "  </tbody>\n",
       "</table>\n",
       "</div>"
      ],
      "text/plain": [
       "     symbol                       date   close      high     low      open  \\\n",
       "1253   ADBE  2021-11-26 00:00:00+00:00  662.10  683.9999  659.68  670.2529   \n",
       "1254   ADBE  2021-11-29 00:00:00+00:00  687.49  691.3600  665.77  668.0000   \n",
       "1255   ADBE  2021-11-30 00:00:00+00:00  669.85  694.8900  667.83  687.2200   \n",
       "1256   ADBE  2021-12-01 00:00:00+00:00  657.41  678.7800  656.28  676.0000   \n",
       "1257   ADBE  2021-12-02 00:00:00+00:00  671.88  674.8450  653.62  655.9500   \n",
       "\n",
       "       volume  adjClose   adjHigh  adjLow   adjOpen  adjVolume  divCash  \\\n",
       "1253  2203960    662.10  683.9999  659.68  670.2529    2203960      0.0   \n",
       "1254  2728844    687.49  691.3600  665.77  668.0000    2728844      0.0   \n",
       "1255  4703616    669.85  694.8900  667.83  687.2200    4703616      0.0   \n",
       "1256  2832765    657.41  678.7800  656.28  676.0000    2832765      0.0   \n",
       "1257  2675408    671.88  674.8450  653.62  655.9500    2675408      0.0   \n",
       "\n",
       "      splitFactor  \n",
       "1253          1.0  \n",
       "1254          1.0  \n",
       "1255          1.0  \n",
       "1256          1.0  \n",
       "1257          1.0  "
      ]
     },
     "execution_count": 171,
     "metadata": {},
     "output_type": "execute_result"
    }
   ],
   "source": [
    "df.tail()"
   ]
  },
  {
   "cell_type": "code",
   "execution_count": 172,
   "metadata": {},
   "outputs": [],
   "source": [
    "#value to predict\n",
    "df_closePrice = df.reset_index()['close']"
   ]
  },
  {
   "cell_type": "code",
   "execution_count": 173,
   "metadata": {},
   "outputs": [
    {
     "data": {
      "text/plain": [
       "(1258,)"
      ]
     },
     "execution_count": 173,
     "metadata": {},
     "output_type": "execute_result"
    }
   ],
   "source": [
    "df_closePrice.shape"
   ]
  },
  {
   "cell_type": "code",
   "execution_count": 174,
   "metadata": {},
   "outputs": [
    {
     "data": {
      "text/plain": [
       "[<matplotlib.lines.Line2D at 0x62a86250>]"
      ]
     },
     "execution_count": 174,
     "metadata": {},
     "output_type": "execute_result"
    },
    {
     "data": {
      "image/png": "[encoded data removed]",
      "text/plain": [
       "<Figure size 432x288 with 1 Axes>"
      ]
     },
     "metadata": {
      "needs_background": "light"
     },
     "output_type": "display_data"
    }
   ],
   "source": [
    "import matplotlib.pyplot as plt\n",
    "plt.plot(df_closePrice)"
   ]
  },
  {
   "cell_type": "code",
   "execution_count": 175,
   "metadata": {},
   "outputs": [],
   "source": [
    "#LSTM is sensitive to the scale \n",
    "import numpy as np\n",
    "from sklearn.preprocessing import MinMaxScaler\n",
    "\n",
    "# use MinMax scalar to transform the value between 0 and 1\n",
    "scaler=MinMaxScaler(feature_range=(0,1))\n",
    "df_closePrice=scaler.fit_transform(np.array(df_closePrice).reshape(-1,1))\n",
    "\n"
   ]
  },
  {
   "cell_type": "code",
   "execution_count": 176,
   "metadata": {},
   "outputs": [
    {
     "data": {
      "text/plain": [
       "array([[6.81640026e-04],\n",
       "       [0.00000000e+00],\n",
       "       [3.08442112e-03],\n",
       "       ...,\n",
       "       [9.68440067e-01],\n",
       "       [9.47241062e-01],\n",
       "       [9.71899390e-01]])"
      ]
     },
     "execution_count": 176,
     "metadata": {},
     "output_type": "execute_result"
    }
   ],
   "source": [
    "#converted to array of values between 0 and 1 \n",
    "df_closePrice "
   ]
  },
  {
   "cell_type": "code",
   "execution_count": 177,
   "metadata": {},
   "outputs": [
    {
     "name": "stdout",
     "output_type": "stream",
     "text": [
      "817\n",
      "441\n"
     ]
    }
   ],
   "source": [
    "# make train test split\n",
    "split_percentage = 0.65\n",
    "training_size = int(len(df_closePrice)*split_percentage)\n",
    "test_size=len(df_closePrice)-training_size\n",
    "#split the dataframe\n",
    "train_data = df_closePrice[0:training_size,:]\n",
    "test_data = df_closePrice[training_size:len(df_closePrice),:1]\n",
    "\n",
    "print(len(train_data))\n",
    "print(len(test_data))"
   ]
  },
  {
   "cell_type": "code",
   "execution_count": 178,
   "metadata": {},
   "outputs": [],
   "source": [
    "\n",
    "# This method is use to separate the data in the order of its timeline\n",
    "\t#for example, \n",
    "\t#Train: 1, 2, 4, 1, 5, 6 \n",
    "\t#will return 1, 2, 4, 1 (train_x); 5, 6 (train_y)\n",
    "#This will preserve the time in the model,\n",
    "#so we cannot use the future to predict the past\n",
    "def create_dataset(dataset, time_step=1):\n",
    "\tx, y = [], []\n",
    "\tfor i in range(len(dataset)-time_step-1):\n",
    "\t\ta = dataset[i:(i+time_step), 0]   ###i=0, 0,1,2,3-----99   100 \n",
    "\t\tx.append(a)\n",
    "\t\ty.append(dataset[i + time_step, 0])\n",
    "\treturn np.array(x), np.array(y)"
   ]
  },
  {
   "cell_type": "code",
   "execution_count": 179,
   "metadata": {},
   "outputs": [],
   "source": [
    "# reshape into X=t,t+1,t+2,t+3 and Y=t+4\n",
    "time_step = 100 #more the better; train test split\n",
    "train_x, train_y = create_dataset(train_data, time_step)\n",
    "test_x, test_y = create_dataset(test_data, time_step)"
   ]
  },
  {
   "cell_type": "code",
   "execution_count": 180,
   "metadata": {},
   "outputs": [
    {
     "name": "stdout",
     "output_type": "stream",
     "text": [
      "[[0.00068164 0.         0.00308442 ... 0.05323609 0.05424151 0.05485498]\n",
      " [0.         0.00308442 0.003323   ... 0.05424151 0.05485498 0.0571896 ]\n",
      " [0.00308442 0.003323   0.00470332 ... 0.05485498 0.0571896  0.05700215]\n",
      " ...\n",
      " [0.29881395 0.28847006 0.29433216 ... 0.42566716 0.40211649 0.41506765]\n",
      " [0.28847006 0.29433216 0.29554207 ... 0.40211649 0.41506765 0.44090181]\n",
      " [0.29433216 0.29554207 0.30118265 ... 0.41506765 0.44090181 0.42055485]]\n"
     ]
    }
   ],
   "source": [
    "print(train_x)"
   ]
  },
  {
   "cell_type": "code",
   "execution_count": 181,
   "metadata": {},
   "outputs": [
    {
     "name": "stdout",
     "output_type": "stream",
     "text": [
      "(716, 100)\n",
      "(716,)\n",
      "(340, 100)\n",
      "(340,)\n"
     ]
    },
    {
     "data": {
      "text/plain": [
       "(None, None)"
      ]
     },
     "execution_count": 181,
     "metadata": {},
     "output_type": "execute_result"
    }
   ],
   "source": [
    "print(train_x.shape), print(train_y.shape)\n",
    "print(test_x.shape), print(test_y.shape)"
   ]
  },
  {
   "cell_type": "code",
   "execution_count": 182,
   "metadata": {},
   "outputs": [],
   "source": [
    "#reshape input \n",
    "train_x =train_x.reshape(train_x.shape[0],train_x.shape[1] , 1)\n",
    "test_x = test_x.reshape(test_x.shape[0],test_x.shape[1] , 1)"
   ]
  },
  {
   "cell_type": "code",
   "execution_count": 183,
   "metadata": {},
   "outputs": [],
   "source": [
    "### Create the Stacked LSTM model\n",
    "from tensorflow.keras.models import Sequential\n",
    "from tensorflow.keras.layers import Dense\n",
    "from tensorflow.keras.layers import LSTM\n"
   ]
  },
  {
   "cell_type": "code",
   "execution_count": 184,
   "metadata": {},
   "outputs": [],
   "source": [
    "#Creating nested LSTM model\n",
    "model = Sequential()\n",
    "model.add(LSTM(50,return_sequences=True,input_shape=(100,1)))\n",
    "model.add(LSTM(50,return_sequences=True))\n",
    "model.add(LSTM(50))\n",
    "model.add(Dense(1))\n",
    "model.compile(loss='mean_squared_error',optimizer='adam')"
   ]
  },
  {
   "cell_type": "code",
   "execution_count": 185,
   "metadata": {},
   "outputs": [
    {
     "name": "stdout",
     "output_type": "stream",
     "text": [
      "Model: \"sequential_5\"\n",
      "_________________________________________________________________\n",
      "Layer (type)                 Output Shape              Param #   \n",
      "=================================================================\n",
      "lstm_15 (LSTM)               (None, 100, 50)           10400     \n",
      "_________________________________________________________________\n",
      "lstm_16 (LSTM)               (None, 100, 50)           20200     \n",
      "_________________________________________________________________\n",
      "lstm_17 (LSTM)               (None, 50)                20200     \n",
      "_________________________________________________________________\n",
      "dense_5 (Dense)              (None, 1)                 51        \n",
      "=================================================================\n",
      "Total params: 50,851\n",
      "Trainable params: 50,851\n",
      "Non-trainable params: 0\n",
      "_________________________________________________________________\n"
     ]
    }
   ],
   "source": [
    "model.summary()"
   ]
  },
  {
   "cell_type": "code",
   "execution_count": 186,
   "metadata": {},
   "outputs": [
    {
     "name": "stdout",
     "output_type": "stream",
     "text": [
      "Epoch 1/10\n",
      "12/12 [==============================] - 9s 400ms/step - loss: 0.0160 - val_loss: 0.1075\n",
      "Epoch 2/10\n",
      "12/12 [==============================] - 3s 245ms/step - loss: 0.0034 - val_loss: 0.0206\n",
      "Epoch 3/10\n",
      "12/12 [==============================] - 3s 217ms/step - loss: 0.0014 - val_loss: 0.0213\n",
      "Epoch 4/10\n",
      "12/12 [==============================] - 3s 214ms/step - loss: 6.4803e-04 - val_loss: 0.0138\n",
      "Epoch 5/10\n",
      "12/12 [==============================] - 3s 211ms/step - loss: 5.0039e-04 - val_loss: 0.0071\n",
      "Epoch 6/10\n",
      "12/12 [==============================] - 3s 215ms/step - loss: 3.8088e-04 - val_loss: 0.0053\n",
      "Epoch 7/10\n",
      "12/12 [==============================] - 3s 225ms/step - loss: 3.2634e-04 - val_loss: 0.0050\n",
      "Epoch 8/10\n",
      "12/12 [==============================] - 3s 217ms/step - loss: 3.2140e-04 - val_loss: 0.0040\n",
      "Epoch 9/10\n",
      "12/12 [==============================] - 3s 229ms/step - loss: 3.4390e-04 - val_loss: 0.0037\n",
      "Epoch 10/10\n",
      "12/12 [==============================] - 3s 210ms/step - loss: 3.1170e-04 - val_loss: 0.0045\n"
     ]
    },
    {
     "data": {
      "text/plain": [
       "<tensorflow.python.keras.callbacks.History at 0x2a367df0>"
      ]
     },
     "execution_count": 186,
     "metadata": {},
     "output_type": "execute_result"
    }
   ],
   "source": [
    "#model.fit(train_x,train_y,validation_data=(test_x,test_y),epochs=100,batch_size=64,verbose=1)\n",
    "model.fit(train_x,train_y,validation_data=(test_x,test_y),epochs=10,batch_size=64,verbose=1)\n"
   ]
  },
  {
   "cell_type": "code",
   "execution_count": 187,
   "metadata": {},
   "outputs": [],
   "source": [
    "import tensorflow as tf\n",
    "\n",
    "train_predict = model.predict(train_x)\n",
    "test_predict = model.predict(test_x)"
   ]
  },
  {
   "cell_type": "code",
   "execution_count": 188,
   "metadata": {},
   "outputs": [],
   "source": [
    "#Transform back to original data range\n",
    "#from (0,1) back to original range\n",
    "\n",
    "train_predict=scaler.inverse_transform(train_predict)\n",
    "test_predict=scaler.inverse_transform(test_predict)"
   ]
  },
  {
   "cell_type": "code",
   "execution_count": 189,
   "metadata": {},
   "outputs": [
    {
     "data": {
      "text/plain": [
       "244.700682330113"
      ]
     },
     "execution_count": 189,
     "metadata": {},
     "output_type": "execute_result"
    }
   ],
   "source": [
    "### Calculate RMSE performance metrics\n",
    "import math\n",
    "from sklearn.metrics import mean_squared_error\n",
    "\n",
    "#result for training dataset\n",
    "math.sqrt(mean_squared_error(train_y,train_predict))\n"
   ]
  },
  {
   "cell_type": "code",
   "execution_count": 190,
   "metadata": {},
   "outputs": [
    {
     "data": {
      "text/plain": [
       "509.46685393869745"
      ]
     },
     "execution_count": 190,
     "metadata": {},
     "output_type": "execute_result"
    }
   ],
   "source": [
    "### Test Data RMSE\n",
    "math.sqrt(mean_squared_error(test_y,test_predict))"
   ]
  },
  {
   "cell_type": "code",
   "execution_count": 191,
   "metadata": {},
   "outputs": [
    {
     "data": {
      "image/png": "[encoded data removed]",
      "text/plain": [
       "<Figure size 432x288 with 1 Axes>"
      ]
     },
     "metadata": {
      "needs_background": "light"
     },
     "output_type": "display_data"
    }
   ],
   "source": [
    "### Plotting \n",
    "# shift train predictions for plotting\n",
    "look_back=100\n",
    "trainPredictPlot = np.empty_like(df_closePrice)\n",
    "trainPredictPlot[:, :] = np.nan\n",
    "trainPredictPlot[look_back:len(train_predict)+look_back, :] = train_predict\n",
    "# shift test predictions for plotting\n",
    "testPredictPlot = np.empty_like(df_closePrice)\n",
    "testPredictPlot[:, :] = np.nan\n",
    "testPredictPlot[len(train_predict)+(look_back*2)+1:len(df_closePrice)-1, :] = test_predict\n",
    "# plot baseline and predictions\n",
    "plt.plot(scaler.inverse_transform(df_closePrice))\n",
    "plt.plot(trainPredictPlot)\n",
    "plt.plot(testPredictPlot)\n",
    "plt.show()\n",
    "\n",
    "#test predict is green\n",
    "#blue is the whole data set\n",
    "#orange is the train predict"
   ]
  },
  {
   "cell_type": "code",
   "execution_count": 192,
   "metadata": {},
   "outputs": [
    {
     "data": {
      "text/plain": [
       "(1, 100)"
      ]
     },
     "execution_count": 192,
     "metadata": {},
     "output_type": "execute_result"
    }
   ],
   "source": [
    "#prediction\n",
    "\n",
    "start_point = len(test_data) -100\n",
    "#use 100 data poin to predict\n",
    "x_input=test_data[start_point:].reshape(1,-1)\n",
    "x_input.shape\n",
    "\n"
   ]
  },
  {
   "cell_type": "code",
   "execution_count": 193,
   "metadata": {},
   "outputs": [],
   "source": [
    "temp_input=list(x_input)\n",
    "temp_input=temp_input[0].tolist() #all the test_data with previous 100 data point"
   ]
  },
  {
   "cell_type": "code",
   "execution_count": 194,
   "metadata": {},
   "outputs": [
    {
     "name": "stdout",
     "output_type": "stream",
     "text": [
      "[0.8749253]\n",
      "101\n",
      "1 day input [0.85992297 0.85980369 0.85290208 0.86426843 0.87030094 0.88976177\n",
      " 0.89349375 0.88485396 0.88055963 0.88505845 0.88638765 0.88626836\n",
      " 0.88136055 0.88567193 0.89316997 0.90407621 0.90288334 0.89920248\n",
      " 0.88645581 0.8937664  0.90794451 0.91298865 0.91235813 0.90906922\n",
      " 0.89502744 0.91358509 0.93008077 0.94630381 0.94695136 0.94620156\n",
      " 0.93868648 0.94913261 0.96186224 0.95795985 0.96169183 0.95956171\n",
      " 0.9628847  0.95402338 0.95714188 0.95451757 0.94984834 0.9263488\n",
      " 0.92611022 0.95349511 0.96036263 0.94224805 0.91977097 0.92760983\n",
      " 0.89385161 0.90196312 0.88810879 0.85562864 0.81323063 0.81140725\n",
      " 0.80803313 0.8110153  0.77867148 0.79266215 0.79881395 0.81355441\n",
      " 0.8099758  0.80351726 0.81650251 0.83427627 0.86220647 0.86660305\n",
      " 0.88831328 0.91087557 0.9045704  0.91528919 0.92367336 0.92945026\n",
      " 0.92183293 0.91770901 0.91634573 0.93522716 0.9179135  0.91825432\n",
      " 0.94344092 0.97564841 0.95628983 0.96191336 0.96515115 0.93035343\n",
      " 0.92297468 0.94756484 0.95119457 0.9704509  0.96983743 0.97033162\n",
      " 1.         0.97477932 0.96044784 0.96583279 0.95523329 0.99850039\n",
      " 0.96844007 0.94724106 0.97189939 0.87492532]\n",
      "1 day output [[0.87540627]]\n",
      "2 day input [0.85980369 0.85290208 0.86426843 0.87030094 0.88976177 0.89349375\n",
      " 0.88485396 0.88055963 0.88505845 0.88638765 0.88626836 0.88136055\n",
      " 0.88567193 0.89316997 0.90407621 0.90288334 0.89920248 0.88645581\n",
      " 0.8937664  0.90794451 0.91298865 0.91235813 0.90906922 0.89502744\n",
      " 0.91358509 0.93008077 0.94630381 0.94695136 0.94620156 0.93868648\n",
      " 0.94913261 0.96186224 0.95795985 0.96169183 0.95956171 0.9628847\n",
      " 0.95402338 0.95714188 0.95451757 0.94984834 0.9263488  0.92611022\n",
      " 0.95349511 0.96036263 0.94224805 0.91977097 0.92760983 0.89385161\n",
      " 0.90196312 0.88810879 0.85562864 0.81323063 0.81140725 0.80803313\n",
      " 0.8110153  0.77867148 0.79266215 0.79881395 0.81355441 0.8099758\n",
      " 0.80351726 0.81650251 0.83427627 0.86220647 0.86660305 0.88831328\n",
      " 0.91087557 0.9045704  0.91528919 0.92367336 0.92945026 0.92183293\n",
      " 0.91770901 0.91634573 0.93522716 0.9179135  0.91825432 0.94344092\n",
      " 0.97564841 0.95628983 0.96191336 0.96515115 0.93035343 0.92297468\n",
      " 0.94756484 0.95119457 0.9704509  0.96983743 0.97033162 1.\n",
      " 0.97477932 0.96044784 0.96583279 0.95523329 0.99850039 0.96844007\n",
      " 0.94724106 0.97189939 0.87492532 0.87540627]\n",
      "2 day output [[0.8749821]]\n",
      "3 day input [0.85290208 0.86426843 0.87030094 0.88976177 0.89349375 0.88485396\n",
      " 0.88055963 0.88505845 0.88638765 0.88626836 0.88136055 0.88567193\n",
      " 0.89316997 0.90407621 0.90288334 0.89920248 0.88645581 0.8937664\n",
      " 0.90794451 0.91298865 0.91235813 0.90906922 0.89502744 0.91358509\n",
      " 0.93008077 0.94630381 0.94695136 0.94620156 0.93868648 0.94913261\n",
      " 0.96186224 0.95795985 0.96169183 0.95956171 0.9628847  0.95402338\n",
      " 0.95714188 0.95451757 0.94984834 0.9263488  0.92611022 0.95349511\n",
      " 0.96036263 0.94224805 0.91977097 0.92760983 0.89385161 0.90196312\n",
      " 0.88810879 0.85562864 0.81323063 0.81140725 0.80803313 0.8110153\n",
      " 0.77867148 0.79266215 0.79881395 0.81355441 0.8099758  0.80351726\n",
      " 0.81650251 0.83427627 0.86220647 0.86660305 0.88831328 0.91087557\n",
      " 0.9045704  0.91528919 0.92367336 0.92945026 0.92183293 0.91770901\n",
      " 0.91634573 0.93522716 0.9179135  0.91825432 0.94344092 0.97564841\n",
      " 0.95628983 0.96191336 0.96515115 0.93035343 0.92297468 0.94756484\n",
      " 0.95119457 0.9704509  0.96983743 0.97033162 1.         0.97477932\n",
      " 0.96044784 0.96583279 0.95523329 0.99850039 0.96844007 0.94724106\n",
      " 0.97189939 0.87492532 0.87540627 0.87498212]\n",
      "3 day output [[0.8736438]]\n",
      "4 day input [0.86426843 0.87030094 0.88976177 0.89349375 0.88485396 0.88055963\n",
      " 0.88505845 0.88638765 0.88626836 0.88136055 0.88567193 0.89316997\n",
      " 0.90407621 0.90288334 0.89920248 0.88645581 0.8937664  0.90794451\n",
      " 0.91298865 0.91235813 0.90906922 0.89502744 0.91358509 0.93008077\n",
      " 0.94630381 0.94695136 0.94620156 0.93868648 0.94913261 0.96186224\n",
      " 0.95795985 0.96169183 0.95956171 0.9628847  0.95402338 0.95714188\n",
      " 0.95451757 0.94984834 0.9263488  0.92611022 0.95349511 0.96036263\n",
      " 0.94224805 0.91977097 0.92760983 0.89385161 0.90196312 0.88810879\n",
      " 0.85562864 0.81323063 0.81140725 0.80803313 0.8110153  0.77867148\n",
      " 0.79266215 0.79881395 0.81355441 0.8099758  0.80351726 0.81650251\n",
      " 0.83427627 0.86220647 0.86660305 0.88831328 0.91087557 0.9045704\n",
      " 0.91528919 0.92367336 0.92945026 0.92183293 0.91770901 0.91634573\n",
      " 0.93522716 0.9179135  0.91825432 0.94344092 0.97564841 0.95628983\n",
      " 0.96191336 0.96515115 0.93035343 0.92297468 0.94756484 0.95119457\n",
      " 0.9704509  0.96983743 0.97033162 1.         0.97477932 0.96044784\n",
      " 0.96583279 0.95523329 0.99850039 0.96844007 0.94724106 0.97189939\n",
      " 0.87492532 0.87540627 0.87498212 0.87364382]\n",
      "4 day output [[0.87147677]]\n",
      "5 day input [0.87030094 0.88976177 0.89349375 0.88485396 0.88055963 0.88505845\n",
      " 0.88638765 0.88626836 0.88136055 0.88567193 0.89316997 0.90407621\n",
      " 0.90288334 0.89920248 0.88645581 0.8937664  0.90794451 0.91298865\n",
      " 0.91235813 0.90906922 0.89502744 0.91358509 0.93008077 0.94630381\n",
      " 0.94695136 0.94620156 0.93868648 0.94913261 0.96186224 0.95795985\n",
      " 0.96169183 0.95956171 0.9628847  0.95402338 0.95714188 0.95451757\n",
      " 0.94984834 0.9263488  0.92611022 0.95349511 0.96036263 0.94224805\n",
      " 0.91977097 0.92760983 0.89385161 0.90196312 0.88810879 0.85562864\n",
      " 0.81323063 0.81140725 0.80803313 0.8110153  0.77867148 0.79266215\n",
      " 0.79881395 0.81355441 0.8099758  0.80351726 0.81650251 0.83427627\n",
      " 0.86220647 0.86660305 0.88831328 0.91087557 0.9045704  0.91528919\n",
      " 0.92367336 0.92945026 0.92183293 0.91770901 0.91634573 0.93522716\n",
      " 0.9179135  0.91825432 0.94344092 0.97564841 0.95628983 0.96191336\n",
      " 0.96515115 0.93035343 0.92297468 0.94756484 0.95119457 0.9704509\n",
      " 0.96983743 0.97033162 1.         0.97477932 0.96044784 0.96583279\n",
      " 0.95523329 0.99850039 0.96844007 0.94724106 0.97189939 0.87492532\n",
      " 0.87540627 0.87498212 0.87364382 0.87147677]\n",
      "5 day output [[0.86860955]]\n",
      "6 day input [0.88976177 0.89349375 0.88485396 0.88055963 0.88505845 0.88638765\n",
      " 0.88626836 0.88136055 0.88567193 0.89316997 0.90407621 0.90288334\n",
      " 0.89920248 0.88645581 0.8937664  0.90794451 0.91298865 0.91235813\n",
      " 0.90906922 0.89502744 0.91358509 0.93008077 0.94630381 0.94695136\n",
      " 0.94620156 0.93868648 0.94913261 0.96186224 0.95795985 0.96169183\n",
      " 0.95956171 0.9628847  0.95402338 0.95714188 0.95451757 0.94984834\n",
      " 0.9263488  0.92611022 0.95349511 0.96036263 0.94224805 0.91977097\n",
      " 0.92760983 0.89385161 0.90196312 0.88810879 0.85562864 0.81323063\n",
      " 0.81140725 0.80803313 0.8110153  0.77867148 0.79266215 0.79881395\n",
      " 0.81355441 0.8099758  0.80351726 0.81650251 0.83427627 0.86220647\n",
      " 0.86660305 0.88831328 0.91087557 0.9045704  0.91528919 0.92367336\n",
      " 0.92945026 0.92183293 0.91770901 0.91634573 0.93522716 0.9179135\n",
      " 0.91825432 0.94344092 0.97564841 0.95628983 0.96191336 0.96515115\n",
      " 0.93035343 0.92297468 0.94756484 0.95119457 0.9704509  0.96983743\n",
      " 0.97033162 1.         0.97477932 0.96044784 0.96583279 0.95523329\n",
      " 0.99850039 0.96844007 0.94724106 0.97189939 0.87492532 0.87540627\n",
      " 0.87498212 0.87364382 0.87147677 0.86860955]\n",
      "6 day output [[0.8651856]]\n",
      "7 day input [0.89349375 0.88485396 0.88055963 0.88505845 0.88638765 0.88626836\n",
      " 0.88136055 0.88567193 0.89316997 0.90407621 0.90288334 0.89920248\n",
      " 0.88645581 0.8937664  0.90794451 0.91298865 0.91235813 0.90906922\n",
      " 0.89502744 0.91358509 0.93008077 0.94630381 0.94695136 0.94620156\n",
      " 0.93868648 0.94913261 0.96186224 0.95795985 0.96169183 0.95956171\n",
      " 0.9628847  0.95402338 0.95714188 0.95451757 0.94984834 0.9263488\n",
      " 0.92611022 0.95349511 0.96036263 0.94224805 0.91977097 0.92760983\n",
      " 0.89385161 0.90196312 0.88810879 0.85562864 0.81323063 0.81140725\n",
      " 0.80803313 0.8110153  0.77867148 0.79266215 0.79881395 0.81355441\n",
      " 0.8099758  0.80351726 0.81650251 0.83427627 0.86220647 0.86660305\n",
      " 0.88831328 0.91087557 0.9045704  0.91528919 0.92367336 0.92945026\n",
      " 0.92183293 0.91770901 0.91634573 0.93522716 0.9179135  0.91825432\n",
      " 0.94344092 0.97564841 0.95628983 0.96191336 0.96515115 0.93035343\n",
      " 0.92297468 0.94756484 0.95119457 0.9704509  0.96983743 0.97033162\n",
      " 1.         0.97477932 0.96044784 0.96583279 0.95523329 0.99850039\n",
      " 0.96844007 0.94724106 0.97189939 0.87492532 0.87540627 0.87498212\n",
      " 0.87364382 0.87147677 0.86860955 0.86518562]\n",
      "7 day output [[0.8613425]]\n",
      "8 day input [0.88485396 0.88055963 0.88505845 0.88638765 0.88626836 0.88136055\n",
      " 0.88567193 0.89316997 0.90407621 0.90288334 0.89920248 0.88645581\n",
      " 0.8937664  0.90794451 0.91298865 0.91235813 0.90906922 0.89502744\n",
      " 0.91358509 0.93008077 0.94630381 0.94695136 0.94620156 0.93868648\n",
      " 0.94913261 0.96186224 0.95795985 0.96169183 0.95956171 0.9628847\n",
      " 0.95402338 0.95714188 0.95451757 0.94984834 0.9263488  0.92611022\n",
      " 0.95349511 0.96036263 0.94224805 0.91977097 0.92760983 0.89385161\n",
      " 0.90196312 0.88810879 0.85562864 0.81323063 0.81140725 0.80803313\n",
      " 0.8110153  0.77867148 0.79266215 0.79881395 0.81355441 0.8099758\n",
      " 0.80351726 0.81650251 0.83427627 0.86220647 0.86660305 0.88831328\n",
      " 0.91087557 0.9045704  0.91528919 0.92367336 0.92945026 0.92183293\n",
      " 0.91770901 0.91634573 0.93522716 0.9179135  0.91825432 0.94344092\n",
      " 0.97564841 0.95628983 0.96191336 0.96515115 0.93035343 0.92297468\n",
      " 0.94756484 0.95119457 0.9704509  0.96983743 0.97033162 1.\n",
      " 0.97477932 0.96044784 0.96583279 0.95523329 0.99850039 0.96844007\n",
      " 0.94724106 0.97189939 0.87492532 0.87540627 0.87498212 0.87364382\n",
      " 0.87147677 0.86860955 0.86518562 0.86134249]\n",
      "8 day output [[0.85720336]]\n",
      "9 day input [0.88055963 0.88505845 0.88638765 0.88626836 0.88136055 0.88567193\n",
      " 0.89316997 0.90407621 0.90288334 0.89920248 0.88645581 0.8937664\n",
      " 0.90794451 0.91298865 0.91235813 0.90906922 0.89502744 0.91358509\n",
      " 0.93008077 0.94630381 0.94695136 0.94620156 0.93868648 0.94913261\n",
      " 0.96186224 0.95795985 0.96169183 0.95956171 0.9628847  0.95402338\n",
      " 0.95714188 0.95451757 0.94984834 0.9263488  0.92611022 0.95349511\n",
      " 0.96036263 0.94224805 0.91977097 0.92760983 0.89385161 0.90196312\n",
      " 0.88810879 0.85562864 0.81323063 0.81140725 0.80803313 0.8110153\n",
      " 0.77867148 0.79266215 0.79881395 0.81355441 0.8099758  0.80351726\n",
      " 0.81650251 0.83427627 0.86220647 0.86660305 0.88831328 0.91087557\n",
      " 0.9045704  0.91528919 0.92367336 0.92945026 0.92183293 0.91770901\n",
      " 0.91634573 0.93522716 0.9179135  0.91825432 0.94344092 0.97564841\n",
      " 0.95628983 0.96191336 0.96515115 0.93035343 0.92297468 0.94756484\n",
      " 0.95119457 0.9704509  0.96983743 0.97033162 1.         0.97477932\n",
      " 0.96044784 0.96583279 0.95523329 0.99850039 0.96844007 0.94724106\n",
      " 0.97189939 0.87492532 0.87540627 0.87498212 0.87364382 0.87147677\n",
      " 0.86860955 0.86518562 0.86134249 0.85720336]\n",
      "9 day output [[0.8528726]]\n",
      "10 day input [0.88505845 0.88638765 0.88626836 0.88136055 0.88567193 0.89316997\n",
      " 0.90407621 0.90288334 0.89920248 0.88645581 0.8937664  0.90794451\n",
      " 0.91298865 0.91235813 0.90906922 0.89502744 0.91358509 0.93008077\n",
      " 0.94630381 0.94695136 0.94620156 0.93868648 0.94913261 0.96186224\n",
      " 0.95795985 0.96169183 0.95956171 0.9628847  0.95402338 0.95714188\n",
      " 0.95451757 0.94984834 0.9263488  0.92611022 0.95349511 0.96036263\n",
      " 0.94224805 0.91977097 0.92760983 0.89385161 0.90196312 0.88810879\n",
      " 0.85562864 0.81323063 0.81140725 0.80803313 0.8110153  0.77867148\n",
      " 0.79266215 0.79881395 0.81355441 0.8099758  0.80351726 0.81650251\n",
      " 0.83427627 0.86220647 0.86660305 0.88831328 0.91087557 0.9045704\n",
      " 0.91528919 0.92367336 0.92945026 0.92183293 0.91770901 0.91634573\n",
      " 0.93522716 0.9179135  0.91825432 0.94344092 0.97564841 0.95628983\n",
      " 0.96191336 0.96515115 0.93035343 0.92297468 0.94756484 0.95119457\n",
      " 0.9704509  0.96983743 0.97033162 1.         0.97477932 0.96044784\n",
      " 0.96583279 0.95523329 0.99850039 0.96844007 0.94724106 0.97189939\n",
      " 0.87492532 0.87540627 0.87498212 0.87364382 0.87147677 0.86860955\n",
      " 0.86518562 0.86134249 0.85720336 0.85287261]\n",
      "10 day output [[0.8484343]]\n",
      "11 day input [0.88638765 0.88626836 0.88136055 0.88567193 0.89316997 0.90407621\n",
      " 0.90288334 0.89920248 0.88645581 0.8937664  0.90794451 0.91298865\n",
      " 0.91235813 0.90906922 0.89502744 0.91358509 0.93008077 0.94630381\n",
      " 0.94695136 0.94620156 0.93868648 0.94913261 0.96186224 0.95795985\n",
      " 0.96169183 0.95956171 0.9628847  0.95402338 0.95714188 0.95451757\n",
      " 0.94984834 0.9263488  0.92611022 0.95349511 0.96036263 0.94224805\n",
      " 0.91977097 0.92760983 0.89385161 0.90196312 0.88810879 0.85562864\n",
      " 0.81323063 0.81140725 0.80803313 0.8110153  0.77867148 0.79266215\n",
      " 0.79881395 0.81355441 0.8099758  0.80351726 0.81650251 0.83427627\n",
      " 0.86220647 0.86660305 0.88831328 0.91087557 0.9045704  0.91528919\n",
      " 0.92367336 0.92945026 0.92183293 0.91770901 0.91634573 0.93522716\n",
      " 0.9179135  0.91825432 0.94344092 0.97564841 0.95628983 0.96191336\n",
      " 0.96515115 0.93035343 0.92297468 0.94756484 0.95119457 0.9704509\n",
      " 0.96983743 0.97033162 1.         0.97477932 0.96044784 0.96583279\n",
      " 0.95523329 0.99850039 0.96844007 0.94724106 0.97189939 0.87492532\n",
      " 0.87540627 0.87498212 0.87364382 0.87147677 0.86860955 0.86518562\n",
      " 0.86134249 0.85720336 0.85287261 0.84843433]\n",
      "11 day output [[0.8439536]]\n",
      "12 day input [0.88626836 0.88136055 0.88567193 0.89316997 0.90407621 0.90288334\n",
      " 0.89920248 0.88645581 0.8937664  0.90794451 0.91298865 0.91235813\n",
      " 0.90906922 0.89502744 0.91358509 0.93008077 0.94630381 0.94695136\n",
      " 0.94620156 0.93868648 0.94913261 0.96186224 0.95795985 0.96169183\n",
      " 0.95956171 0.9628847  0.95402338 0.95714188 0.95451757 0.94984834\n",
      " 0.9263488  0.92611022 0.95349511 0.96036263 0.94224805 0.91977097\n",
      " 0.92760983 0.89385161 0.90196312 0.88810879 0.85562864 0.81323063\n",
      " 0.81140725 0.80803313 0.8110153  0.77867148 0.79266215 0.79881395\n",
      " 0.81355441 0.8099758  0.80351726 0.81650251 0.83427627 0.86220647\n",
      " 0.86660305 0.88831328 0.91087557 0.9045704  0.91528919 0.92367336\n",
      " 0.92945026 0.92183293 0.91770901 0.91634573 0.93522716 0.9179135\n",
      " 0.91825432 0.94344092 0.97564841 0.95628983 0.96191336 0.96515115\n",
      " 0.93035343 0.92297468 0.94756484 0.95119457 0.9704509  0.96983743\n",
      " 0.97033162 1.         0.97477932 0.96044784 0.96583279 0.95523329\n",
      " 0.99850039 0.96844007 0.94724106 0.97189939 0.87492532 0.87540627\n",
      " 0.87498212 0.87364382 0.87147677 0.86860955 0.86518562 0.86134249\n",
      " 0.85720336 0.85287261 0.84843433 0.84395361]\n",
      "12 day output [[0.8394797]]\n",
      "13 day input [0.88136055 0.88567193 0.89316997 0.90407621 0.90288334 0.89920248\n",
      " 0.88645581 0.8937664  0.90794451 0.91298865 0.91235813 0.90906922\n",
      " 0.89502744 0.91358509 0.93008077 0.94630381 0.94695136 0.94620156\n",
      " 0.93868648 0.94913261 0.96186224 0.95795985 0.96169183 0.95956171\n",
      " 0.9628847  0.95402338 0.95714188 0.95451757 0.94984834 0.9263488\n",
      " 0.92611022 0.95349511 0.96036263 0.94224805 0.91977097 0.92760983\n",
      " 0.89385161 0.90196312 0.88810879 0.85562864 0.81323063 0.81140725\n",
      " 0.80803313 0.8110153  0.77867148 0.79266215 0.79881395 0.81355441\n",
      " 0.8099758  0.80351726 0.81650251 0.83427627 0.86220647 0.86660305\n",
      " 0.88831328 0.91087557 0.9045704  0.91528919 0.92367336 0.92945026\n",
      " 0.92183293 0.91770901 0.91634573 0.93522716 0.9179135  0.91825432\n",
      " 0.94344092 0.97564841 0.95628983 0.96191336 0.96515115 0.93035343\n",
      " 0.92297468 0.94756484 0.95119457 0.9704509  0.96983743 0.97033162\n",
      " 1.         0.97477932 0.96044784 0.96583279 0.95523329 0.99850039\n",
      " 0.96844007 0.94724106 0.97189939 0.87492532 0.87540627 0.87498212\n",
      " 0.87364382 0.87147677 0.86860955 0.86518562 0.86134249 0.85720336\n",
      " 0.85287261 0.84843433 0.84395361 0.83947968]\n",
      "13 day output [[0.83504707]]\n",
      "14 day input [0.88567193 0.89316997 0.90407621 0.90288334 0.89920248 0.88645581\n",
      " 0.8937664  0.90794451 0.91298865 0.91235813 0.90906922 0.89502744\n",
      " 0.91358509 0.93008077 0.94630381 0.94695136 0.94620156 0.93868648\n",
      " 0.94913261 0.96186224 0.95795985 0.96169183 0.95956171 0.9628847\n",
      " 0.95402338 0.95714188 0.95451757 0.94984834 0.9263488  0.92611022\n",
      " 0.95349511 0.96036263 0.94224805 0.91977097 0.92760983 0.89385161\n",
      " 0.90196312 0.88810879 0.85562864 0.81323063 0.81140725 0.80803313\n",
      " 0.8110153  0.77867148 0.79266215 0.79881395 0.81355441 0.8099758\n",
      " 0.80351726 0.81650251 0.83427627 0.86220647 0.86660305 0.88831328\n",
      " 0.91087557 0.9045704  0.91528919 0.92367336 0.92945026 0.92183293\n",
      " 0.91770901 0.91634573 0.93522716 0.9179135  0.91825432 0.94344092\n",
      " 0.97564841 0.95628983 0.96191336 0.96515115 0.93035343 0.92297468\n",
      " 0.94756484 0.95119457 0.9704509  0.96983743 0.97033162 1.\n",
      " 0.97477932 0.96044784 0.96583279 0.95523329 0.99850039 0.96844007\n",
      " 0.94724106 0.97189939 0.87492532 0.87540627 0.87498212 0.87364382\n",
      " 0.87147677 0.86860955 0.86518562 0.86134249 0.85720336 0.85287261\n",
      " 0.84843433 0.84395361 0.83947968 0.83504707]\n",
      "14 day output [[0.8306799]]\n",
      "15 day input [0.89316997 0.90407621 0.90288334 0.89920248 0.88645581 0.8937664\n",
      " 0.90794451 0.91298865 0.91235813 0.90906922 0.89502744 0.91358509\n",
      " 0.93008077 0.94630381 0.94695136 0.94620156 0.93868648 0.94913261\n",
      " 0.96186224 0.95795985 0.96169183 0.95956171 0.9628847  0.95402338\n",
      " 0.95714188 0.95451757 0.94984834 0.9263488  0.92611022 0.95349511\n",
      " 0.96036263 0.94224805 0.91977097 0.92760983 0.89385161 0.90196312\n",
      " 0.88810879 0.85562864 0.81323063 0.81140725 0.80803313 0.8110153\n",
      " 0.77867148 0.79266215 0.79881395 0.81355441 0.8099758  0.80351726\n",
      " 0.81650251 0.83427627 0.86220647 0.86660305 0.88831328 0.91087557\n",
      " 0.9045704  0.91528919 0.92367336 0.92945026 0.92183293 0.91770901\n",
      " 0.91634573 0.93522716 0.9179135  0.91825432 0.94344092 0.97564841\n",
      " 0.95628983 0.96191336 0.96515115 0.93035343 0.92297468 0.94756484\n",
      " 0.95119457 0.9704509  0.96983743 0.97033162 1.         0.97477932\n",
      " 0.96044784 0.96583279 0.95523329 0.99850039 0.96844007 0.94724106\n",
      " 0.97189939 0.87492532 0.87540627 0.87498212 0.87364382 0.87147677\n",
      " 0.86860955 0.86518562 0.86134249 0.85720336 0.85287261 0.84843433\n",
      " 0.84395361 0.83947968 0.83504707 0.83067989]\n",
      "15 day output [[0.82639354]]\n",
      "16 day input [0.90407621 0.90288334 0.89920248 0.88645581 0.8937664  0.90794451\n",
      " 0.91298865 0.91235813 0.90906922 0.89502744 0.91358509 0.93008077\n",
      " 0.94630381 0.94695136 0.94620156 0.93868648 0.94913261 0.96186224\n",
      " 0.95795985 0.96169183 0.95956171 0.9628847  0.95402338 0.95714188\n",
      " 0.95451757 0.94984834 0.9263488  0.92611022 0.95349511 0.96036263\n",
      " 0.94224805 0.91977097 0.92760983 0.89385161 0.90196312 0.88810879\n",
      " 0.85562864 0.81323063 0.81140725 0.80803313 0.8110153  0.77867148\n",
      " 0.79266215 0.79881395 0.81355441 0.8099758  0.80351726 0.81650251\n",
      " 0.83427627 0.86220647 0.86660305 0.88831328 0.91087557 0.9045704\n",
      " 0.91528919 0.92367336 0.92945026 0.92183293 0.91770901 0.91634573\n",
      " 0.93522716 0.9179135  0.91825432 0.94344092 0.97564841 0.95628983\n",
      " 0.96191336 0.96515115 0.93035343 0.92297468 0.94756484 0.95119457\n",
      " 0.9704509  0.96983743 0.97033162 1.         0.97477932 0.96044784\n",
      " 0.96583279 0.95523329 0.99850039 0.96844007 0.94724106 0.97189939\n",
      " 0.87492532 0.87540627 0.87498212 0.87364382 0.87147677 0.86860955\n",
      " 0.86518562 0.86134249 0.85720336 0.85287261 0.84843433 0.84395361\n",
      " 0.83947968 0.83504707 0.83067989 0.82639354]\n",
      "16 day output [[0.82219654]]\n",
      "17 day input [0.90288334 0.89920248 0.88645581 0.8937664  0.90794451 0.91298865\n",
      " 0.91235813 0.90906922 0.89502744 0.91358509 0.93008077 0.94630381\n",
      " 0.94695136 0.94620156 0.93868648 0.94913261 0.96186224 0.95795985\n",
      " 0.96169183 0.95956171 0.9628847  0.95402338 0.95714188 0.95451757\n",
      " 0.94984834 0.9263488  0.92611022 0.95349511 0.96036263 0.94224805\n",
      " 0.91977097 0.92760983 0.89385161 0.90196312 0.88810879 0.85562864\n",
      " 0.81323063 0.81140725 0.80803313 0.8110153  0.77867148 0.79266215\n",
      " 0.79881395 0.81355441 0.8099758  0.80351726 0.81650251 0.83427627\n",
      " 0.86220647 0.86660305 0.88831328 0.91087557 0.9045704  0.91528919\n",
      " 0.92367336 0.92945026 0.92183293 0.91770901 0.91634573 0.93522716\n",
      " 0.9179135  0.91825432 0.94344092 0.97564841 0.95628983 0.96191336\n",
      " 0.96515115 0.93035343 0.92297468 0.94756484 0.95119457 0.9704509\n",
      " 0.96983743 0.97033162 1.         0.97477932 0.96044784 0.96583279\n",
      " 0.95523329 0.99850039 0.96844007 0.94724106 0.97189939 0.87492532\n",
      " 0.87540627 0.87498212 0.87364382 0.87147677 0.86860955 0.86518562\n",
      " 0.86134249 0.85720336 0.85287261 0.84843433 0.84395361 0.83947968\n",
      " 0.83504707 0.83067989 0.82639354 0.82219654]\n",
      "17 day output [[0.81809306]]\n",
      "18 day input [0.89920248 0.88645581 0.8937664  0.90794451 0.91298865 0.91235813\n",
      " 0.90906922 0.89502744 0.91358509 0.93008077 0.94630381 0.94695136\n",
      " 0.94620156 0.93868648 0.94913261 0.96186224 0.95795985 0.96169183\n",
      " 0.95956171 0.9628847  0.95402338 0.95714188 0.95451757 0.94984834\n",
      " 0.9263488  0.92611022 0.95349511 0.96036263 0.94224805 0.91977097\n",
      " 0.92760983 0.89385161 0.90196312 0.88810879 0.85562864 0.81323063\n",
      " 0.81140725 0.80803313 0.8110153  0.77867148 0.79266215 0.79881395\n",
      " 0.81355441 0.8099758  0.80351726 0.81650251 0.83427627 0.86220647\n",
      " 0.86660305 0.88831328 0.91087557 0.9045704  0.91528919 0.92367336\n",
      " 0.92945026 0.92183293 0.91770901 0.91634573 0.93522716 0.9179135\n",
      " 0.91825432 0.94344092 0.97564841 0.95628983 0.96191336 0.96515115\n",
      " 0.93035343 0.92297468 0.94756484 0.95119457 0.9704509  0.96983743\n",
      " 0.97033162 1.         0.97477932 0.96044784 0.96583279 0.95523329\n",
      " 0.99850039 0.96844007 0.94724106 0.97189939 0.87492532 0.87540627\n",
      " 0.87498212 0.87364382 0.87147677 0.86860955 0.86518562 0.86134249\n",
      " 0.85720336 0.85287261 0.84843433 0.84395361 0.83947968 0.83504707\n",
      " 0.83067989 0.82639354 0.82219654 0.81809306]\n",
      "18 day output [[0.81408453]]\n",
      "19 day input [0.88645581 0.8937664  0.90794451 0.91298865 0.91235813 0.90906922\n",
      " 0.89502744 0.91358509 0.93008077 0.94630381 0.94695136 0.94620156\n",
      " 0.93868648 0.94913261 0.96186224 0.95795985 0.96169183 0.95956171\n",
      " 0.9628847  0.95402338 0.95714188 0.95451757 0.94984834 0.9263488\n",
      " 0.92611022 0.95349511 0.96036263 0.94224805 0.91977097 0.92760983\n",
      " 0.89385161 0.90196312 0.88810879 0.85562864 0.81323063 0.81140725\n",
      " 0.80803313 0.8110153  0.77867148 0.79266215 0.79881395 0.81355441\n",
      " 0.8099758  0.80351726 0.81650251 0.83427627 0.86220647 0.86660305\n",
      " 0.88831328 0.91087557 0.9045704  0.91528919 0.92367336 0.92945026\n",
      " 0.92183293 0.91770901 0.91634573 0.93522716 0.9179135  0.91825432\n",
      " 0.94344092 0.97564841 0.95628983 0.96191336 0.96515115 0.93035343\n",
      " 0.92297468 0.94756484 0.95119457 0.9704509  0.96983743 0.97033162\n",
      " 1.         0.97477932 0.96044784 0.96583279 0.95523329 0.99850039\n",
      " 0.96844007 0.94724106 0.97189939 0.87492532 0.87540627 0.87498212\n",
      " 0.87364382 0.87147677 0.86860955 0.86518562 0.86134249 0.85720336\n",
      " 0.85287261 0.84843433 0.84395361 0.83947968 0.83504707 0.83067989\n",
      " 0.82639354 0.82219654 0.81809306 0.81408453]\n",
      "19 day output [[0.81016934]]\n",
      "20 day input [0.8937664  0.90794451 0.91298865 0.91235813 0.90906922 0.89502744\n",
      " 0.91358509 0.93008077 0.94630381 0.94695136 0.94620156 0.93868648\n",
      " 0.94913261 0.96186224 0.95795985 0.96169183 0.95956171 0.9628847\n",
      " 0.95402338 0.95714188 0.95451757 0.94984834 0.9263488  0.92611022\n",
      " 0.95349511 0.96036263 0.94224805 0.91977097 0.92760983 0.89385161\n",
      " 0.90196312 0.88810879 0.85562864 0.81323063 0.81140725 0.80803313\n",
      " 0.8110153  0.77867148 0.79266215 0.79881395 0.81355441 0.8099758\n",
      " 0.80351726 0.81650251 0.83427627 0.86220647 0.86660305 0.88831328\n",
      " 0.91087557 0.9045704  0.91528919 0.92367336 0.92945026 0.92183293\n",
      " 0.91770901 0.91634573 0.93522716 0.9179135  0.91825432 0.94344092\n",
      " 0.97564841 0.95628983 0.96191336 0.96515115 0.93035343 0.92297468\n",
      " 0.94756484 0.95119457 0.9704509  0.96983743 0.97033162 1.\n",
      " 0.97477932 0.96044784 0.96583279 0.95523329 0.99850039 0.96844007\n",
      " 0.94724106 0.97189939 0.87492532 0.87540627 0.87498212 0.87364382\n",
      " 0.87147677 0.86860955 0.86518562 0.86134249 0.85720336 0.85287261\n",
      " 0.84843433 0.84395361 0.83947968 0.83504707 0.83067989 0.82639354\n",
      " 0.82219654 0.81809306 0.81408453 0.81016934]\n",
      "20 day output [[0.80634564]]\n",
      "21 day input [0.90794451 0.91298865 0.91235813 0.90906922 0.89502744 0.91358509\n",
      " 0.93008077 0.94630381 0.94695136 0.94620156 0.93868648 0.94913261\n",
      " 0.96186224 0.95795985 0.96169183 0.95956171 0.9628847  0.95402338\n",
      " 0.95714188 0.95451757 0.94984834 0.9263488  0.92611022 0.95349511\n",
      " 0.96036263 0.94224805 0.91977097 0.92760983 0.89385161 0.90196312\n",
      " 0.88810879 0.85562864 0.81323063 0.81140725 0.80803313 0.8110153\n",
      " 0.77867148 0.79266215 0.79881395 0.81355441 0.8099758  0.80351726\n",
      " 0.81650251 0.83427627 0.86220647 0.86660305 0.88831328 0.91087557\n",
      " 0.9045704  0.91528919 0.92367336 0.92945026 0.92183293 0.91770901\n",
      " 0.91634573 0.93522716 0.9179135  0.91825432 0.94344092 0.97564841\n",
      " 0.95628983 0.96191336 0.96515115 0.93035343 0.92297468 0.94756484\n",
      " 0.95119457 0.9704509  0.96983743 0.97033162 1.         0.97477932\n",
      " 0.96044784 0.96583279 0.95523329 0.99850039 0.96844007 0.94724106\n",
      " 0.97189939 0.87492532 0.87540627 0.87498212 0.87364382 0.87147677\n",
      " 0.86860955 0.86518562 0.86134249 0.85720336 0.85287261 0.84843433\n",
      " 0.84395361 0.83947968 0.83504707 0.83067989 0.82639354 0.82219654\n",
      " 0.81809306 0.81408453 0.81016934 0.80634564]\n",
      "21 day output [[0.80260974]]\n",
      "22 day input [0.91298865 0.91235813 0.90906922 0.89502744 0.91358509 0.93008077\n",
      " 0.94630381 0.94695136 0.94620156 0.93868648 0.94913261 0.96186224\n",
      " 0.95795985 0.96169183 0.95956171 0.9628847  0.95402338 0.95714188\n",
      " 0.95451757 0.94984834 0.9263488  0.92611022 0.95349511 0.96036263\n",
      " 0.94224805 0.91977097 0.92760983 0.89385161 0.90196312 0.88810879\n",
      " 0.85562864 0.81323063 0.81140725 0.80803313 0.8110153  0.77867148\n",
      " 0.79266215 0.79881395 0.81355441 0.8099758  0.80351726 0.81650251\n",
      " 0.83427627 0.86220647 0.86660305 0.88831328 0.91087557 0.9045704\n",
      " 0.91528919 0.92367336 0.92945026 0.92183293 0.91770901 0.91634573\n",
      " 0.93522716 0.9179135  0.91825432 0.94344092 0.97564841 0.95628983\n",
      " 0.96191336 0.96515115 0.93035343 0.92297468 0.94756484 0.95119457\n",
      " 0.9704509  0.96983743 0.97033162 1.         0.97477932 0.96044784\n",
      " 0.96583279 0.95523329 0.99850039 0.96844007 0.94724106 0.97189939\n",
      " 0.87492532 0.87540627 0.87498212 0.87364382 0.87147677 0.86860955\n",
      " 0.86518562 0.86134249 0.85720336 0.85287261 0.84843433 0.84395361\n",
      " 0.83947968 0.83504707 0.83067989 0.82639354 0.82219654 0.81809306\n",
      " 0.81408453 0.81016934 0.80634564 0.80260974]\n",
      "22 day output [[0.7989588]]\n",
      "23 day input [0.91235813 0.90906922 0.89502744 0.91358509 0.93008077 0.94630381\n",
      " 0.94695136 0.94620156 0.93868648 0.94913261 0.96186224 0.95795985\n",
      " 0.96169183 0.95956171 0.9628847  0.95402338 0.95714188 0.95451757\n",
      " 0.94984834 0.9263488  0.92611022 0.95349511 0.96036263 0.94224805\n",
      " 0.91977097 0.92760983 0.89385161 0.90196312 0.88810879 0.85562864\n",
      " 0.81323063 0.81140725 0.80803313 0.8110153  0.77867148 0.79266215\n",
      " 0.79881395 0.81355441 0.8099758  0.80351726 0.81650251 0.83427627\n",
      " 0.86220647 0.86660305 0.88831328 0.91087557 0.9045704  0.91528919\n",
      " 0.92367336 0.92945026 0.92183293 0.91770901 0.91634573 0.93522716\n",
      " 0.9179135  0.91825432 0.94344092 0.97564841 0.95628983 0.96191336\n",
      " 0.96515115 0.93035343 0.92297468 0.94756484 0.95119457 0.9704509\n",
      " 0.96983743 0.97033162 1.         0.97477932 0.96044784 0.96583279\n",
      " 0.95523329 0.99850039 0.96844007 0.94724106 0.97189939 0.87492532\n",
      " 0.87540627 0.87498212 0.87364382 0.87147677 0.86860955 0.86518562\n",
      " 0.86134249 0.85720336 0.85287261 0.84843433 0.84395361 0.83947968\n",
      " 0.83504707 0.83067989 0.82639354 0.82219654 0.81809306 0.81408453\n",
      " 0.81016934 0.80634564 0.80260974 0.79895878]\n",
      "23 day output [[0.79538894]]\n",
      "24 day input [0.90906922 0.89502744 0.91358509 0.93008077 0.94630381 0.94695136\n",
      " 0.94620156 0.93868648 0.94913261 0.96186224 0.95795985 0.96169183\n",
      " 0.95956171 0.9628847  0.95402338 0.95714188 0.95451757 0.94984834\n",
      " 0.9263488  0.92611022 0.95349511 0.96036263 0.94224805 0.91977097\n",
      " 0.92760983 0.89385161 0.90196312 0.88810879 0.85562864 0.81323063\n",
      " 0.81140725 0.80803313 0.8110153  0.77867148 0.79266215 0.79881395\n",
      " 0.81355441 0.8099758  0.80351726 0.81650251 0.83427627 0.86220647\n",
      " 0.86660305 0.88831328 0.91087557 0.9045704  0.91528919 0.92367336\n",
      " 0.92945026 0.92183293 0.91770901 0.91634573 0.93522716 0.9179135\n",
      " 0.91825432 0.94344092 0.97564841 0.95628983 0.96191336 0.96515115\n",
      " 0.93035343 0.92297468 0.94756484 0.95119457 0.9704509  0.96983743\n",
      " 0.97033162 1.         0.97477932 0.96044784 0.96583279 0.95523329\n",
      " 0.99850039 0.96844007 0.94724106 0.97189939 0.87492532 0.87540627\n",
      " 0.87498212 0.87364382 0.87147677 0.86860955 0.86518562 0.86134249\n",
      " 0.85720336 0.85287261 0.84843433 0.84395361 0.83947968 0.83504707\n",
      " 0.83067989 0.82639354 0.82219654 0.81809306 0.81408453 0.81016934\n",
      " 0.80634564 0.80260974 0.79895878 0.79538894]\n",
      "24 day output [[0.7918968]]\n",
      "25 day input [0.89502744 0.91358509 0.93008077 0.94630381 0.94695136 0.94620156\n",
      " 0.93868648 0.94913261 0.96186224 0.95795985 0.96169183 0.95956171\n",
      " 0.9628847  0.95402338 0.95714188 0.95451757 0.94984834 0.9263488\n",
      " 0.92611022 0.95349511 0.96036263 0.94224805 0.91977097 0.92760983\n",
      " 0.89385161 0.90196312 0.88810879 0.85562864 0.81323063 0.81140725\n",
      " 0.80803313 0.8110153  0.77867148 0.79266215 0.79881395 0.81355441\n",
      " 0.8099758  0.80351726 0.81650251 0.83427627 0.86220647 0.86660305\n",
      " 0.88831328 0.91087557 0.9045704  0.91528919 0.92367336 0.92945026\n",
      " 0.92183293 0.91770901 0.91634573 0.93522716 0.9179135  0.91825432\n",
      " 0.94344092 0.97564841 0.95628983 0.96191336 0.96515115 0.93035343\n",
      " 0.92297468 0.94756484 0.95119457 0.9704509  0.96983743 0.97033162\n",
      " 1.         0.97477932 0.96044784 0.96583279 0.95523329 0.99850039\n",
      " 0.96844007 0.94724106 0.97189939 0.87492532 0.87540627 0.87498212\n",
      " 0.87364382 0.87147677 0.86860955 0.86518562 0.86134249 0.85720336\n",
      " 0.85287261 0.84843433 0.84395361 0.83947968 0.83504707 0.83067989\n",
      " 0.82639354 0.82219654 0.81809306 0.81408453 0.81016934 0.80634564\n",
      " 0.80260974 0.79895878 0.79538894 0.79189682]\n",
      "25 day output [[0.78847957]]\n",
      "26 day input [0.91358509 0.93008077 0.94630381 0.94695136 0.94620156 0.93868648\n",
      " 0.94913261 0.96186224 0.95795985 0.96169183 0.95956171 0.9628847\n",
      " 0.95402338 0.95714188 0.95451757 0.94984834 0.9263488  0.92611022\n",
      " 0.95349511 0.96036263 0.94224805 0.91977097 0.92760983 0.89385161\n",
      " 0.90196312 0.88810879 0.85562864 0.81323063 0.81140725 0.80803313\n",
      " 0.8110153  0.77867148 0.79266215 0.79881395 0.81355441 0.8099758\n",
      " 0.80351726 0.81650251 0.83427627 0.86220647 0.86660305 0.88831328\n",
      " 0.91087557 0.9045704  0.91528919 0.92367336 0.92945026 0.92183293\n",
      " 0.91770901 0.91634573 0.93522716 0.9179135  0.91825432 0.94344092\n",
      " 0.97564841 0.95628983 0.96191336 0.96515115 0.93035343 0.92297468\n",
      " 0.94756484 0.95119457 0.9704509  0.96983743 0.97033162 1.\n",
      " 0.97477932 0.96044784 0.96583279 0.95523329 0.99850039 0.96844007\n",
      " 0.94724106 0.97189939 0.87492532 0.87540627 0.87498212 0.87364382\n",
      " 0.87147677 0.86860955 0.86518562 0.86134249 0.85720336 0.85287261\n",
      " 0.84843433 0.84395361 0.83947968 0.83504707 0.83067989 0.82639354\n",
      " 0.82219654 0.81809306 0.81408453 0.81016934 0.80634564 0.80260974\n",
      " 0.79895878 0.79538894 0.79189682 0.78847957]\n",
      "26 day output [[0.7851338]]\n",
      "27 day input [0.93008077 0.94630381 0.94695136 0.94620156 0.93868648 0.94913261\n",
      " 0.96186224 0.95795985 0.96169183 0.95956171 0.9628847  0.95402338\n",
      " 0.95714188 0.95451757 0.94984834 0.9263488  0.92611022 0.95349511\n",
      " 0.96036263 0.94224805 0.91977097 0.92760983 0.89385161 0.90196312\n",
      " 0.88810879 0.85562864 0.81323063 0.81140725 0.80803313 0.8110153\n",
      " 0.77867148 0.79266215 0.79881395 0.81355441 0.8099758  0.80351726\n",
      " 0.81650251 0.83427627 0.86220647 0.86660305 0.88831328 0.91087557\n",
      " 0.9045704  0.91528919 0.92367336 0.92945026 0.92183293 0.91770901\n",
      " 0.91634573 0.93522716 0.9179135  0.91825432 0.94344092 0.97564841\n",
      " 0.95628983 0.96191336 0.96515115 0.93035343 0.92297468 0.94756484\n",
      " 0.95119457 0.9704509  0.96983743 0.97033162 1.         0.97477932\n",
      " 0.96044784 0.96583279 0.95523329 0.99850039 0.96844007 0.94724106\n",
      " 0.97189939 0.87492532 0.87540627 0.87498212 0.87364382 0.87147677\n",
      " 0.86860955 0.86518562 0.86134249 0.85720336 0.85287261 0.84843433\n",
      " 0.84395361 0.83947968 0.83504707 0.83067989 0.82639354 0.82219654\n",
      " 0.81809306 0.81408453 0.81016934 0.80634564 0.80260974 0.79895878\n",
      " 0.79538894 0.79189682 0.78847957 0.78513378]\n",
      "27 day output [[0.7818569]]\n",
      "28 day input [0.94630381 0.94695136 0.94620156 0.93868648 0.94913261 0.96186224\n",
      " 0.95795985 0.96169183 0.95956171 0.9628847  0.95402338 0.95714188\n",
      " 0.95451757 0.94984834 0.9263488  0.92611022 0.95349511 0.96036263\n",
      " 0.94224805 0.91977097 0.92760983 0.89385161 0.90196312 0.88810879\n",
      " 0.85562864 0.81323063 0.81140725 0.80803313 0.8110153  0.77867148\n",
      " 0.79266215 0.79881395 0.81355441 0.8099758  0.80351726 0.81650251\n",
      " 0.83427627 0.86220647 0.86660305 0.88831328 0.91087557 0.9045704\n",
      " 0.91528919 0.92367336 0.92945026 0.92183293 0.91770901 0.91634573\n",
      " 0.93522716 0.9179135  0.91825432 0.94344092 0.97564841 0.95628983\n",
      " 0.96191336 0.96515115 0.93035343 0.92297468 0.94756484 0.95119457\n",
      " 0.9704509  0.96983743 0.97033162 1.         0.97477932 0.96044784\n",
      " 0.96583279 0.95523329 0.99850039 0.96844007 0.94724106 0.97189939\n",
      " 0.87492532 0.87540627 0.87498212 0.87364382 0.87147677 0.86860955\n",
      " 0.86518562 0.86134249 0.85720336 0.85287261 0.84843433 0.84395361\n",
      " 0.83947968 0.83504707 0.83067989 0.82639354 0.82219654 0.81809306\n",
      " 0.81408453 0.81016934 0.80634564 0.80260974 0.79895878 0.79538894\n",
      " 0.79189682 0.78847957 0.78513378 0.78185689]\n",
      "28 day output [[0.7786469]]\n",
      "29 day input [0.94695136 0.94620156 0.93868648 0.94913261 0.96186224 0.95795985\n",
      " 0.96169183 0.95956171 0.9628847  0.95402338 0.95714188 0.95451757\n",
      " 0.94984834 0.9263488  0.92611022 0.95349511 0.96036263 0.94224805\n",
      " 0.91977097 0.92760983 0.89385161 0.90196312 0.88810879 0.85562864\n",
      " 0.81323063 0.81140725 0.80803313 0.8110153  0.77867148 0.79266215\n",
      " 0.79881395 0.81355441 0.8099758  0.80351726 0.81650251 0.83427627\n",
      " 0.86220647 0.86660305 0.88831328 0.91087557 0.9045704  0.91528919\n",
      " 0.92367336 0.92945026 0.92183293 0.91770901 0.91634573 0.93522716\n",
      " 0.9179135  0.91825432 0.94344092 0.97564841 0.95628983 0.96191336\n",
      " 0.96515115 0.93035343 0.92297468 0.94756484 0.95119457 0.9704509\n",
      " 0.96983743 0.97033162 1.         0.97477932 0.96044784 0.96583279\n",
      " 0.95523329 0.99850039 0.96844007 0.94724106 0.97189939 0.87492532\n",
      " 0.87540627 0.87498212 0.87364382 0.87147677 0.86860955 0.86518562\n",
      " 0.86134249 0.85720336 0.85287261 0.84843433 0.84395361 0.83947968\n",
      " 0.83504707 0.83067989 0.82639354 0.82219654 0.81809306 0.81408453\n",
      " 0.81016934 0.80634564 0.80260974 0.79895878 0.79538894 0.79189682\n",
      " 0.78847957 0.78513378 0.78185689 0.77864689]\n",
      "29 day output [[0.7755004]]\n"
     ]
    }
   ],
   "source": [
    "# demonstrate prediction for next 10 days\n",
    "from numpy import array\n",
    "\n",
    "lst_output=[]\n",
    "n_steps=100\n",
    "i=0\n",
    "while(i<30):\n",
    "    \n",
    "    if(len(temp_input)>100):\n",
    "        #if more than 100 data point shift the list to contain only 100 datapoint\n",
    "\n",
    "        #print(temp_input)\n",
    "        x_input=np.array(temp_input[1:]) #shifting one poistion to the right\n",
    "        print(\"{} day input {}\".format(i,x_input))\n",
    "        x_input=x_input.reshape(1,-1)\n",
    "        x_input = x_input.reshape((1, n_steps, 1))\n",
    "        #print(x_input)\n",
    "        y_pred = model.predict(x_input, verbose=0)\n",
    "        print(\"{} day output {}\".format(i,y_pred))\n",
    "        temp_input.extend(y_pred[0].tolist())\n",
    "        temp_input=temp_input[1:]\n",
    "        #print(temp_input)\n",
    "        lst_output.extend(y_pred.tolist())\n",
    "        i=i+1\n",
    "    else:\n",
    "        #use the 100 data point to predict\n",
    "        x_input = x_input.reshape((1, n_steps,1)) #reshape the data\n",
    "        y_pred = model.predict(x_input, verbose=0)\n",
    "        print(y_pred[0])\n",
    "        temp_input.extend(y_pred[0].tolist())\n",
    "        print(len(temp_input))\n",
    "\n",
    "        #add to the temp_input\n",
    "        lst_output.extend(y_pred.tolist()) \n",
    "        i=i+1\n",
    "    \n",
    "\n",
    "#print(lst_output)"
   ]
  },
  {
   "cell_type": "code",
   "execution_count": 195,
   "metadata": {},
   "outputs": [],
   "source": [
    "#start plotting the new 30 predictions\n",
    "day_new=np.arange(1,101)\n",
    "day_pred=np.arange(101,131)"
   ]
  },
  {
   "cell_type": "code",
   "execution_count": 196,
   "metadata": {},
   "outputs": [
    {
     "data": {
      "text/plain": [
       "Text(0.5, 1.0, 'ADBE')"
      ]
     },
     "execution_count": 196,
     "metadata": {},
     "output_type": "execute_result"
    },
    {
     "data": {
      "image/png": "[encoded data removed]",
      "text/plain": [
       "<Figure size 432x288 with 1 Axes>"
      ]
     },
     "metadata": {
      "needs_background": "light"
     },
     "output_type": "display_data"
    }
   ],
   "source": [
    "total_start = len(df_closePrice) - 100\n",
    "\n",
    "plt.plot(day_new,scaler.inverse_transform(df_closePrice[total_start:])) #use the previous 100 data\n",
    "plt.plot(day_pred,scaler.inverse_transform(lst_output))\n",
    "plt.title(stock)"
   ]
  },
  {
   "cell_type": "code",
   "execution_count": 197,
   "metadata": {},
   "outputs": [
    {
     "data": {
      "text/plain": [
       "[<matplotlib.lines.Line2D at 0x661ba280>]"
      ]
     },
     "execution_count": 197,
     "metadata": {},
     "output_type": "execute_result"
    },
    {
     "data": {
      "image/png": "[encoded data removed]",
      "text/plain": [
       "<Figure size 432x288 with 1 Axes>"
      ]
     },
     "metadata": {
      "needs_background": "light"
     },
     "output_type": "display_data"
    }
   ],
   "source": [
    "#combine to the whole data\n",
    "df3=df_closePrice.tolist()\n",
    "df3.extend(lst_output)\n",
    "view_point = len(df_closePrice)-50\n",
    "plt.plot(df3[view_point:])"
   ]
  },
  {
   "cell_type": "code",
   "execution_count": 198,
   "metadata": {},
   "outputs": [],
   "source": [
    "#Future plan\n",
    "#try 150 data point \n",
    "#try predict next 100 days\n",
    "#use binary LSTM"
   ]
  }
 ],
 "metadata": {
  "interpreter": {
   "hash": "ef1a5d0b392b78fa6b938496ed158b31a5708e64beeadf2ab287f2b43192d531"
  },
  "kernelspec": {
   "display_name": "Python 3.8.0 64-bit",
   "language": "python",
   "name": "python3"
  },
  "language_info": {
   "codemirror_mode": {
    "name": "ipython",
    "version": 3
   },
   "file_extension": ".py",
   "mimetype": "text/x-python",
   "name": "python",
   "nbconvert_exporter": "python",
   "pygments_lexer": "ipython3",
   "version": "3.8.0"
  },
  "orig_nbformat": 4
 },
 "nbformat": 4,
 "nbformat_minor": 2
}
